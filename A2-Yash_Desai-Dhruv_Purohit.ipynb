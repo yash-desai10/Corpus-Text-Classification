{
 "cells": [
  {
   "cell_type": "markdown",
   "metadata": {},
   "source": [
    "# Dhruv Purohit (B00821734)\n",
    "# Yash Desai (B00810560)\n",
    "\n",
    "## Assignment-2\n",
    "\n",
    "## Special Topics in Applied Computer Science (CSCI 5901)"
   ]
  },
  {
   "cell_type": "markdown",
   "metadata": {},
   "source": [
    "## Import Packages "
   ]
  },
  {
   "cell_type": "code",
   "execution_count": 1,
   "metadata": {},
   "outputs": [],
   "source": [
    "import nltk\n",
    "import pandas as pd\n",
    "import numpy as np\n",
    "import re\n",
    "import string\n",
    "import seaborn as sbn\n",
    "import matplotlib.pyplot as plt \n",
    "\n",
    "from sklearn.datasets import fetch_20newsgroups\n",
    "from nltk.tokenize import word_tokenize\n",
    "from nltk.corpus import stopwords\n",
    "from nltk.stem import PorterStemmer\n",
    "from nltk.stem.wordnet import WordNetLemmatizer\n",
    "from sklearn.feature_extraction.text import TfidfVectorizer\n",
    "from sklearn.model_selection import train_test_split\n",
    "from sklearn.svm import SVC\n",
    "from sklearn.naive_bayes import MultinomialNB\n",
    "from sklearn import metrics\n",
    "from sklearn.metrics import confusion_matrix"
   ]
  },
  {
   "cell_type": "markdown",
   "metadata": {},
   "source": [
    "# Fetching newsgroups data from sklearn"
   ]
  },
  {
   "cell_type": "code",
   "execution_count": 2,
   "metadata": {},
   "outputs": [],
   "source": [
    "# Fetching newsgroups dataset\n",
    "\n",
    "newsgroups_categories = ['alt.atheism', 'talk.religion.misc', 'comp.graphics', 'sci.space']\n",
    "newsgroups = fetch_20newsgroups(subset='all',categories=newsgroups_categories)"
   ]
  },
  {
   "cell_type": "markdown",
   "metadata": {},
   "source": [
    "# Question 1\n",
    "\n",
    "## Cleaning Data\n",
    "\n",
    "It was observed that data contained numbers, punctuations and some special characters that might affect the accuracy in the model. Moreover, the data contained 'x+' characters which were also removed during the cleaning process. Further cleaning process was carried in the program below as per the requirements."
   ]
  },
  {
   "cell_type": "code",
   "execution_count": 3,
   "metadata": {},
   "outputs": [],
   "source": [
    "# Remove Numbers, Punctuation and Special Characters using regular expression\n",
    "\n",
    "pattern='[\\W\\d_]'\n",
    "result = [re.sub(pattern, ' ', word.lower()) for word in newsgroups.data] "
   ]
  },
  {
   "cell_type": "code",
   "execution_count": 4,
   "metadata": {},
   "outputs": [],
   "source": [
    "# Removes x+ characters \n",
    "\n",
    "result_1 = [re.sub('x+', '', word) for word in result] "
   ]
  },
  {
   "cell_type": "markdown",
   "metadata": {},
   "source": [
    "# Question 1(a)\n",
    "\n",
    "## Word Tokenization after cleaning process "
   ]
  },
  {
   "cell_type": "code",
   "execution_count": 5,
   "metadata": {},
   "outputs": [
    {
     "name": "stderr",
     "output_type": "stream",
     "text": [
      "[nltk_data] Downloading package punkt to\n",
      "[nltk_data]     C:\\Users\\ykd10\\AppData\\Roaming\\nltk_data...\n",
      "[nltk_data]   Package punkt is already up-to-date!\n"
     ]
    },
    {
     "name": "stdout",
     "output_type": "stream",
     "text": [
      "['from', 'healta', 'saturn', 'wwc', 'edu', 'tammy', 'r', 'healy', 'subject', 're', 'who', 'are', 'we', 'to', 'judge', 'bobby', 'lines', 'organization', 'walla', 'walla', 'college', 'lines', 'in', 'article', 'apr', 'ultb', 'isc', 'rit', 'edu', 'snm', 'ultb', 'isc', 'rit', 'edu', 's', 'n', 'mozumder', 'writes', 'from', 'snm', 'ultb', 'isc', 'rit', 'edu', 's', 'n', 'mozumder', 'subject', 're', 'who', 'are', 'we', 'to', 'judge', 'bobby', 'date', 'wed', 'apr', 'gmt', 'in', 'article', 'healta', 'saturn', 'wwc', 'edu', 'healta', 'saturn', 'wwc', 'edu', 'tammy', 'r', 'healy', 'writes', 'bobby', 'i', 'would', 'like', 'to', 'take', 'the', 'liberty', 'to', 'quote', 'from', 'a', 'christian', 'writer', 'named', 'ellen', 'g', 'white', 'i', 'hope', 'that', 'what', 'she', 'said', 'will', 'help', 'you', 'to', 'edit', 'your', 'remarks', 'in', 'this', 'group', 'in', 'the', 'future', 'do', 'not', 'set', 'yourself', 'as', 'a', 'standard', 'do', 'not', 'make', 'your', 'opinions', 'your', 'views', 'of', 'duty', 'your', 'interpretations', 'of', 'scripture', 'a', 'criterion', 'for', 'others', 'and', 'in', 'your', 'heart', 'condemn', 'them', 'if', 'they', 'do', 'not', 'come', 'up', 'to', 'your', 'ideal', 'thoughts', 'fromthe', 'mount', 'of', 'blessing', 'p', 'i', 'hope', 'quoting', 'this', 'doesn', 't', 'make', 'the', 'atheists', 'gag', 'but', 'i', 'think', 'ellen', 'white', 'put', 'it', 'better', 'than', 'i', 'could', 'tammy', 'point', 'peace', 'bobby', 'mozumder', 'my', 'point', 'is', 'that', 'you', 'set', 'up', 'your', 'views', 'as', 'the', 'only', 'way', 'to', 'believe', 'saying', 'that', 'all', 'eveil', 'in', 'this', 'world', 'is', 'caused', 'by', 'atheism', 'is', 'ridiculous', 'and', 'counterproductive', 'to', 'dialogue', 'in', 'this', 'newsgroups', 'i', 'see', 'in', 'your', 'posts', 'a', 'spirit', 'of', 'condemnation', 'of', 'the', 'atheists', 'in', 'this', 'newsgroup', 'bacause', 'they', 'don', 't', 'believe', 'eactly', 'as', 'you', 'do', 'if', 'you', 're', 'here', 'to', 'try', 'to', 'convert', 'the', 'atheists', 'here', 'you', 're', 'failing', 'miserably', 'who', 'wants', 'to', 'be', 'in', 'position', 'of', 'constantly', 'defending', 'themselves', 'agaist', 'insulting', 'attacks', 'like', 'you', 'seem', 'to', 'like', 'to', 'do', 'i', 'm', 'sorry', 'you', 're', 'so', 'blind', 'that', 'you', 'didn', 't', 'get', 'the', 'messgae', 'in', 'the', 'quote', 'everyone', 'else', 'has', 'seemed', 'to', 'tammy']\n"
     ]
    }
   ],
   "source": [
    "# Word Tokenization\n",
    "\n",
    "nltk.download('punkt')\n",
    "result_word_tokenized=[]\n",
    "for word in result_1:\n",
    "    result_word_tokenized.append(word_tokenize(word))\n",
    "print(result_word_tokenized[0])"
   ]
  },
  {
   "cell_type": "markdown",
   "metadata": {},
   "source": [
    "## Cleaning Data\n",
    "\n",
    "### Remove characters having length 1 and 2 from the data"
   ]
  },
  {
   "cell_type": "code",
   "execution_count": 6,
   "metadata": {},
   "outputs": [],
   "source": [
    "# Remove characters having length 1 and 2\n",
    "\n",
    "result_remove_unnecessary_words=[]\n",
    "result_filtered_words=[]\n",
    "temp_filtered_words=[]\n",
    "\n",
    "for sublist in result_word_tokenized:\n",
    "    for word in sublist:\n",
    "        if len(word) <=2:\n",
    "            result_remove_unnecessary_words.append(word)\n",
    "        else:\n",
    "            temp_filtered_words.append(word)\n",
    "    result_filtered_words.append(temp_filtered_words)\n",
    "    temp_filtered_words=[]"
   ]
  },
  {
   "cell_type": "markdown",
   "metadata": {},
   "source": [
    "### Remove English Stop Words using Stop Words dictionary provided by nltk"
   ]
  },
  {
   "cell_type": "code",
   "execution_count": 7,
   "metadata": {},
   "outputs": [
    {
     "name": "stderr",
     "output_type": "stream",
     "text": [
      "[nltk_data] Downloading package stopwords to\n",
      "[nltk_data]     C:\\Users\\ykd10\\AppData\\Roaming\\nltk_data...\n",
      "[nltk_data]   Package stopwords is already up-to-date!\n"
     ]
    }
   ],
   "source": [
    "# Remove stop words\n",
    "\n",
    "nltk.download('stopwords')\n",
    "stop_words=set(stopwords.words(\"english\"))\n",
    "\n",
    "result_remove_stop_words=[]\n",
    "temp_stop_words=[]\n",
    "for sublist in result_filtered_words:\n",
    "    for word in sublist:\n",
    "        if word not in stop_words:\n",
    "            temp_stop_words.append(word)\n",
    "    result_remove_stop_words.append(temp_stop_words)\n",
    "    temp_stop_words=[]"
   ]
  },
  {
   "cell_type": "markdown",
   "metadata": {},
   "source": [
    "## Tagging Part of Speech to each tokenized word of the data"
   ]
  },
  {
   "cell_type": "code",
   "execution_count": null,
   "metadata": {},
   "outputs": [
    {
     "name": "stderr",
     "output_type": "stream",
     "text": [
      "[nltk_data] Downloading package averaged_perceptron_tagger to\n",
      "[nltk_data]     C:\\Users\\ykd10\\AppData\\Roaming\\nltk_data...\n",
      "[nltk_data]   Package averaged_perceptron_tagger is already up-to-\n",
      "[nltk_data]       date!\n"
     ]
    }
   ],
   "source": [
    "# Part of Speech Tagging\n",
    "\n",
    "nltk.download('averaged_perceptron_tagger')\n",
    "result_word_pos=[]\n",
    "for word in result_remove_stop_words:\n",
    "    result_word_pos.append(nltk.pos_tag(word))\n",
    "print(result_word_pos)"
   ]
  },
  {
   "cell_type": "markdown",
   "metadata": {},
   "source": [
    "# Question 1(b)\n",
    "\n",
    "## Perform lemmatization after removing stop words to lemmatize the words to its root.\n",
    "\n",
    "The reason behind performing lemmetization instead of stemming on the data is that stemming removes just the prefix and suffix from the word without considering the actual meaning of the word.\n",
    "\n",
    "Lemmetization will also remove both the prefix and suffix in a way that the word still remains meaningful.\n",
    "Hence, lemmetization was prefered to be performed on the data."
   ]
  },
  {
   "cell_type": "code",
   "execution_count": 9,
   "metadata": {},
   "outputs": [
    {
     "name": "stderr",
     "output_type": "stream",
     "text": [
      "[nltk_data] Downloading package wordnet to\n",
      "[nltk_data]     C:\\Users\\ykd10\\AppData\\Roaming\\nltk_data...\n",
      "[nltk_data]   Package wordnet is already up-to-date!\n"
     ]
    }
   ],
   "source": [
    "# Lemmatization\n",
    "\n",
    "nltk.download('wordnet')\n",
    "lemmatization=WordNetLemmatizer()\n",
    "\n",
    "result_lemmatized_words=[]\n",
    "temp_lemmatized_words=[]\n",
    "\n",
    "for sublist in result_remove_stop_words:\n",
    "    for word in sublist:\n",
    "        temp_lemmatized_words.append(lemmatization.lemmatize(word))\n",
    "    result_lemmatized_words.append(temp_lemmatized_words)\n",
    "    temp_lemmatized_words=[]"
   ]
  },
  {
   "cell_type": "markdown",
   "metadata": {},
   "source": [
    "## Method to filter bigrams as per different POS types"
   ]
  },
  {
   "cell_type": "code",
   "execution_count": 10,
   "metadata": {},
   "outputs": [],
   "source": [
    "def filterBigrams(ngram):\n",
    "    type_1=('JJ', 'JJR', 'JJS','NN', 'NNS', 'NNP', 'NNPS')\n",
    "    type_2=('NN', 'NNS', 'NNP', 'NNPS')\n",
    "    ngram_tags=nltk.pos_tag(ngram)\n",
    "    if ngram_tags[0][1] in type_1 and ngram_tags[1][1] in type_2:\n",
    "        return True\n",
    "    else:\n",
    "        return False    "
   ]
  },
  {
   "cell_type": "markdown",
   "metadata": {},
   "source": [
    "## Initializing Bigrams using nltk's collocation object"
   ]
  },
  {
   "cell_type": "code",
   "execution_count": 11,
   "metadata": {},
   "outputs": [],
   "source": [
    "# Initializing Bigrams\n",
    "bigram_flattened_list=[]\n",
    "\n",
    "for sublist in result_lemmatized_words:\n",
    "    for word in sublist:\n",
    "        bigram_flattened_list.append(word)\n",
    "\n",
    "bigrams=nltk.collocations.BigramAssocMeasures()\n",
    "bigramFinder = nltk.collocations.BigramCollocationFinder.from_words(bigram_flattened_list)\n",
    "bigramFinder.apply_freq_filter(20)"
   ]
  },
  {
   "cell_type": "markdown",
   "metadata": {},
   "source": [
    "## Extract Bigrams using Frequency method with filtered POS types"
   ]
  },
  {
   "cell_type": "code",
   "execution_count": 12,
   "metadata": {},
   "outputs": [
    {
     "data": {
      "text/html": [
       "<div>\n",
       "<style scoped>\n",
       "    .dataframe tbody tr th:only-of-type {\n",
       "        vertical-align: middle;\n",
       "    }\n",
       "\n",
       "    .dataframe tbody tr th {\n",
       "        vertical-align: top;\n",
       "    }\n",
       "\n",
       "    .dataframe thead th {\n",
       "        text-align: right;\n",
       "    }\n",
       "</style>\n",
       "<table border=\"1\" class=\"dataframe\">\n",
       "  <thead>\n",
       "    <tr style=\"text-align: right;\">\n",
       "      <th></th>\n",
       "      <th>Bigram</th>\n",
       "      <th>Frequency</th>\n",
       "    </tr>\n",
       "  </thead>\n",
       "  <tbody>\n",
       "    <tr>\n",
       "      <th>7</th>\n",
       "      <td>(line, article)</td>\n",
       "      <td>898</td>\n",
       "    </tr>\n",
       "    <tr>\n",
       "      <th>8</th>\n",
       "      <td>(article, apr)</td>\n",
       "      <td>627</td>\n",
       "    </tr>\n",
       "    <tr>\n",
       "      <th>138</th>\n",
       "      <td>(line, nntp)</td>\n",
       "      <td>607</td>\n",
       "    </tr>\n",
       "    <tr>\n",
       "      <th>64</th>\n",
       "      <td>(organization, university)</td>\n",
       "      <td>530</td>\n",
       "    </tr>\n",
       "    <tr>\n",
       "      <th>98</th>\n",
       "      <td>(nasa, gov)</td>\n",
       "      <td>530</td>\n",
       "    </tr>\n",
       "    <tr>\n",
       "      <th>69</th>\n",
       "      <td>(writes, article)</td>\n",
       "      <td>494</td>\n",
       "    </tr>\n",
       "    <tr>\n",
       "      <th>30</th>\n",
       "      <td>(distribution, world)</td>\n",
       "      <td>372</td>\n",
       "    </tr>\n",
       "    <tr>\n",
       "      <th>191</th>\n",
       "      <td>(caltech, edu)</td>\n",
       "      <td>345</td>\n",
       "    </tr>\n",
       "    <tr>\n",
       "      <th>63</th>\n",
       "      <td>(uiuc, edu)</td>\n",
       "      <td>339</td>\n",
       "    </tr>\n",
       "    <tr>\n",
       "      <th>153</th>\n",
       "      <td>(access, dige)</td>\n",
       "      <td>326</td>\n",
       "    </tr>\n",
       "    <tr>\n",
       "      <th>220</th>\n",
       "      <td>(sgi, com)</td>\n",
       "      <td>317</td>\n",
       "    </tr>\n",
       "    <tr>\n",
       "      <th>22</th>\n",
       "      <td>(line, distribution)</td>\n",
       "      <td>316</td>\n",
       "    </tr>\n",
       "    <tr>\n",
       "      <th>205</th>\n",
       "      <td>(apple, com)</td>\n",
       "      <td>289</td>\n",
       "    </tr>\n",
       "    <tr>\n",
       "      <th>87</th>\n",
       "      <td>(cmu, edu)</td>\n",
       "      <td>283</td>\n",
       "    </tr>\n",
       "    <tr>\n",
       "      <th>192</th>\n",
       "      <td>(edu, keith)</td>\n",
       "      <td>244</td>\n",
       "    </tr>\n",
       "    <tr>\n",
       "      <th>219</th>\n",
       "      <td>(wpd, sgi)</td>\n",
       "      <td>223</td>\n",
       "    </tr>\n",
       "    <tr>\n",
       "      <th>218</th>\n",
       "      <td>(solntze, wpd)</td>\n",
       "      <td>223</td>\n",
       "    </tr>\n",
       "    <tr>\n",
       "      <th>174</th>\n",
       "      <td>(toronto, edu)</td>\n",
       "      <td>222</td>\n",
       "    </tr>\n",
       "    <tr>\n",
       "      <th>107</th>\n",
       "      <td>(world, nntp)</td>\n",
       "      <td>219</td>\n",
       "    </tr>\n",
       "    <tr>\n",
       "      <th>62</th>\n",
       "      <td>(cso, uiuc)</td>\n",
       "      <td>216</td>\n",
       "    </tr>\n",
       "  </tbody>\n",
       "</table>\n",
       "</div>"
      ],
      "text/plain": [
       "                         Bigram  Frequency\n",
       "7               (line, article)        898\n",
       "8                (article, apr)        627\n",
       "138                (line, nntp)        607\n",
       "64   (organization, university)        530\n",
       "98                  (nasa, gov)        530\n",
       "69            (writes, article)        494\n",
       "30        (distribution, world)        372\n",
       "191              (caltech, edu)        345\n",
       "63                  (uiuc, edu)        339\n",
       "153              (access, dige)        326\n",
       "220                  (sgi, com)        317\n",
       "22         (line, distribution)        316\n",
       "205                (apple, com)        289\n",
       "87                   (cmu, edu)        283\n",
       "192                (edu, keith)        244\n",
       "219                  (wpd, sgi)        223\n",
       "218              (solntze, wpd)        223\n",
       "174              (toronto, edu)        222\n",
       "107               (world, nntp)        219\n",
       "62                  (cso, uiuc)        216"
      ]
     },
     "execution_count": 12,
     "metadata": {},
     "output_type": "execute_result"
    }
   ],
   "source": [
    "# Bigrams using frequency with filter\n",
    "\n",
    "bigramFrequency=pd.DataFrame(list(bigramFinder.ngram_fd.items()), columns=['Bigram','Frequency']).sort_values(by='Frequency', ascending=False)\n",
    "filtered_bigramFrequency=bigramFrequency[bigramFrequency.Bigram.map(lambda word:filterBigrams(word))]\n",
    "filtered_bigramFrequency[:20]"
   ]
  },
  {
   "cell_type": "markdown",
   "metadata": {},
   "source": [
    "## Extract Bigrams using PMI (Pointwise Mutual Information) test method (without filtering)"
   ]
  },
  {
   "cell_type": "code",
   "execution_count": 13,
   "metadata": {},
   "outputs": [
    {
     "data": {
      "text/html": [
       "<div>\n",
       "<style scoped>\n",
       "    .dataframe tbody tr th:only-of-type {\n",
       "        vertical-align: middle;\n",
       "    }\n",
       "\n",
       "    .dataframe tbody tr th {\n",
       "        vertical-align: top;\n",
       "    }\n",
       "\n",
       "    .dataframe thead th {\n",
       "        text-align: right;\n",
       "    }\n",
       "</style>\n",
       "<table border=\"1\" class=\"dataframe\">\n",
       "  <thead>\n",
       "    <tr style=\"text-align: right;\">\n",
       "      <th></th>\n",
       "      <th>Bigram</th>\n",
       "      <th>PMI Score</th>\n",
       "    </tr>\n",
       "  </thead>\n",
       "  <tbody>\n",
       "    <tr>\n",
       "      <th>0</th>\n",
       "      <td>(scicom, alphacdc)</td>\n",
       "      <td>14.849390</td>\n",
       "    </tr>\n",
       "    <tr>\n",
       "      <th>1</th>\n",
       "      <td>(televison, repo)</td>\n",
       "      <td>14.849390</td>\n",
       "    </tr>\n",
       "    <tr>\n",
       "      <th>2</th>\n",
       "      <td>(evelyn, conlon)</td>\n",
       "      <td>14.711887</td>\n",
       "    </tr>\n",
       "    <tr>\n",
       "      <th>3</th>\n",
       "      <td>(hatching, odwyer)</td>\n",
       "      <td>14.711887</td>\n",
       "    </tr>\n",
       "    <tr>\n",
       "      <th>4</th>\n",
       "      <td>(odwyer, sse)</td>\n",
       "      <td>14.711887</td>\n",
       "    </tr>\n",
       "    <tr>\n",
       "      <th>5</th>\n",
       "      <td>(spartan, brocku)</td>\n",
       "      <td>14.711887</td>\n",
       "    </tr>\n",
       "    <tr>\n",
       "      <th>6</th>\n",
       "      <td>(mayan, televison)</td>\n",
       "      <td>14.711887</td>\n",
       "    </tr>\n",
       "    <tr>\n",
       "      <th>7</th>\n",
       "      <td>(hen, evelyn)</td>\n",
       "      <td>14.586356</td>\n",
       "    </tr>\n",
       "    <tr>\n",
       "      <th>8</th>\n",
       "      <td>(sse, hen)</td>\n",
       "      <td>14.586356</td>\n",
       "    </tr>\n",
       "    <tr>\n",
       "      <th>9</th>\n",
       "      <td>(notre, dame)</td>\n",
       "      <td>14.470879</td>\n",
       "    </tr>\n",
       "    <tr>\n",
       "      <th>10</th>\n",
       "      <td>(duck, pond)</td>\n",
       "      <td>14.460348</td>\n",
       "    </tr>\n",
       "    <tr>\n",
       "      <th>11</th>\n",
       "      <td>(eau, claire)</td>\n",
       "      <td>14.416431</td>\n",
       "    </tr>\n",
       "    <tr>\n",
       "      <th>12</th>\n",
       "      <td>(organpipe, uug)</td>\n",
       "      <td>14.416431</td>\n",
       "    </tr>\n",
       "    <tr>\n",
       "      <th>13</th>\n",
       "      <td>(wale, larrison)</td>\n",
       "      <td>14.349317</td>\n",
       "    </tr>\n",
       "    <tr>\n",
       "      <th>14</th>\n",
       "      <td>(telos, aweto)</td>\n",
       "      <td>14.313338</td>\n",
       "    </tr>\n",
       "    <tr>\n",
       "      <th>15</th>\n",
       "      <td>(physik, unizh)</td>\n",
       "      <td>14.299833</td>\n",
       "    </tr>\n",
       "    <tr>\n",
       "      <th>16</th>\n",
       "      <td>(southwestern, louisiana)</td>\n",
       "      <td>14.194039</td>\n",
       "    </tr>\n",
       "    <tr>\n",
       "      <th>17</th>\n",
       "      <td>(comme, aucun)</td>\n",
       "      <td>14.171319</td>\n",
       "    </tr>\n",
       "    <tr>\n",
       "      <th>18</th>\n",
       "      <td>(theporch, raider)</td>\n",
       "      <td>14.126924</td>\n",
       "    </tr>\n",
       "    <tr>\n",
       "      <th>19</th>\n",
       "      <td>(jut, ccc)</td>\n",
       "      <td>14.083856</td>\n",
       "    </tr>\n",
       "  </tbody>\n",
       "</table>\n",
       "</div>"
      ],
      "text/plain": [
       "                       Bigram  PMI Score\n",
       "0          (scicom, alphacdc)  14.849390\n",
       "1           (televison, repo)  14.849390\n",
       "2            (evelyn, conlon)  14.711887\n",
       "3          (hatching, odwyer)  14.711887\n",
       "4               (odwyer, sse)  14.711887\n",
       "5           (spartan, brocku)  14.711887\n",
       "6          (mayan, televison)  14.711887\n",
       "7               (hen, evelyn)  14.586356\n",
       "8                  (sse, hen)  14.586356\n",
       "9               (notre, dame)  14.470879\n",
       "10               (duck, pond)  14.460348\n",
       "11              (eau, claire)  14.416431\n",
       "12           (organpipe, uug)  14.416431\n",
       "13           (wale, larrison)  14.349317\n",
       "14             (telos, aweto)  14.313338\n",
       "15            (physik, unizh)  14.299833\n",
       "16  (southwestern, louisiana)  14.194039\n",
       "17             (comme, aucun)  14.171319\n",
       "18         (theporch, raider)  14.126924\n",
       "19                 (jut, ccc)  14.083856"
      ]
     },
     "execution_count": 13,
     "metadata": {},
     "output_type": "execute_result"
    }
   ],
   "source": [
    "# Bigramss using PMI test\n",
    "\n",
    "bigramPMI=pd.DataFrame(list(bigramFinder.score_ngrams(bigrams.pmi)),columns=['Bigram','PMI Score'])\n",
    "bigramPMI[:20]"
   ]
  },
  {
   "cell_type": "markdown",
   "metadata": {},
   "source": [
    "## Extract Bigrams using T-Test method with filtered POS types"
   ]
  },
  {
   "cell_type": "code",
   "execution_count": 14,
   "metadata": {},
   "outputs": [
    {
     "name": "stderr",
     "output_type": "stream",
     "text": [
      "c:\\users\\ykd10\\appdata\\local\\programs\\python\\python36\\lib\\site-packages\\ipykernel_launcher.py:4: UserWarning: Boolean Series key will be reindexed to match DataFrame index.\n",
      "  after removing the cwd from sys.path.\n"
     ]
    },
    {
     "data": {
      "text/html": [
       "<div>\n",
       "<style scoped>\n",
       "    .dataframe tbody tr th:only-of-type {\n",
       "        vertical-align: middle;\n",
       "    }\n",
       "\n",
       "    .dataframe tbody tr th {\n",
       "        vertical-align: top;\n",
       "    }\n",
       "\n",
       "    .dataframe thead th {\n",
       "        text-align: right;\n",
       "    }\n",
       "</style>\n",
       "<table border=\"1\" class=\"dataframe\">\n",
       "  <thead>\n",
       "    <tr style=\"text-align: right;\">\n",
       "      <th></th>\n",
       "      <th>Bigram</th>\n",
       "      <th>Frequency</th>\n",
       "    </tr>\n",
       "  </thead>\n",
       "  <tbody>\n",
       "    <tr>\n",
       "      <th>23</th>\n",
       "      <td>(nntp, posting)</td>\n",
       "      <td>1496</td>\n",
       "    </tr>\n",
       "    <tr>\n",
       "      <th>24</th>\n",
       "      <td>(posting, host)</td>\n",
       "      <td>1493</td>\n",
       "    </tr>\n",
       "    <tr>\n",
       "      <th>7</th>\n",
       "      <td>(line, article)</td>\n",
       "      <td>898</td>\n",
       "    </tr>\n",
       "    <tr>\n",
       "      <th>8</th>\n",
       "      <td>(article, apr)</td>\n",
       "      <td>627</td>\n",
       "    </tr>\n",
       "    <tr>\n",
       "      <th>138</th>\n",
       "      <td>(line, nntp)</td>\n",
       "      <td>607</td>\n",
       "    </tr>\n",
       "    <tr>\n",
       "      <th>64</th>\n",
       "      <td>(organization, university)</td>\n",
       "      <td>530</td>\n",
       "    </tr>\n",
       "    <tr>\n",
       "      <th>98</th>\n",
       "      <td>(nasa, gov)</td>\n",
       "      <td>530</td>\n",
       "    </tr>\n",
       "    <tr>\n",
       "      <th>69</th>\n",
       "      <td>(writes, article)</td>\n",
       "      <td>494</td>\n",
       "    </tr>\n",
       "    <tr>\n",
       "      <th>30</th>\n",
       "      <td>(distribution, world)</td>\n",
       "      <td>372</td>\n",
       "    </tr>\n",
       "    <tr>\n",
       "      <th>191</th>\n",
       "      <td>(caltech, edu)</td>\n",
       "      <td>345</td>\n",
       "    </tr>\n",
       "    <tr>\n",
       "      <th>63</th>\n",
       "      <td>(uiuc, edu)</td>\n",
       "      <td>339</td>\n",
       "    </tr>\n",
       "    <tr>\n",
       "      <th>153</th>\n",
       "      <td>(access, dige)</td>\n",
       "      <td>326</td>\n",
       "    </tr>\n",
       "    <tr>\n",
       "      <th>220</th>\n",
       "      <td>(sgi, com)</td>\n",
       "      <td>317</td>\n",
       "    </tr>\n",
       "    <tr>\n",
       "      <th>22</th>\n",
       "      <td>(line, distribution)</td>\n",
       "      <td>316</td>\n",
       "    </tr>\n",
       "    <tr>\n",
       "      <th>87</th>\n",
       "      <td>(cmu, edu)</td>\n",
       "      <td>283</td>\n",
       "    </tr>\n",
       "    <tr>\n",
       "      <th>380</th>\n",
       "      <td>(edu, organization)</td>\n",
       "      <td>241</td>\n",
       "    </tr>\n",
       "    <tr>\n",
       "      <th>219</th>\n",
       "      <td>(wpd, sgi)</td>\n",
       "      <td>223</td>\n",
       "    </tr>\n",
       "    <tr>\n",
       "      <th>218</th>\n",
       "      <td>(solntze, wpd)</td>\n",
       "      <td>223</td>\n",
       "    </tr>\n",
       "    <tr>\n",
       "      <th>174</th>\n",
       "      <td>(toronto, edu)</td>\n",
       "      <td>222</td>\n",
       "    </tr>\n",
       "    <tr>\n",
       "      <th>107</th>\n",
       "      <td>(world, nntp)</td>\n",
       "      <td>219</td>\n",
       "    </tr>\n",
       "  </tbody>\n",
       "</table>\n",
       "</div>"
      ],
      "text/plain": [
       "                         Bigram  Frequency\n",
       "23              (nntp, posting)       1496\n",
       "24              (posting, host)       1493\n",
       "7               (line, article)        898\n",
       "8                (article, apr)        627\n",
       "138                (line, nntp)        607\n",
       "64   (organization, university)        530\n",
       "98                  (nasa, gov)        530\n",
       "69            (writes, article)        494\n",
       "30        (distribution, world)        372\n",
       "191              (caltech, edu)        345\n",
       "63                  (uiuc, edu)        339\n",
       "153              (access, dige)        326\n",
       "220                  (sgi, com)        317\n",
       "22         (line, distribution)        316\n",
       "87                   (cmu, edu)        283\n",
       "380         (edu, organization)        241\n",
       "219                  (wpd, sgi)        223\n",
       "218              (solntze, wpd)        223\n",
       "174              (toronto, edu)        222\n",
       "107               (world, nntp)        219"
      ]
     },
     "execution_count": 14,
     "metadata": {},
     "output_type": "execute_result"
    }
   ],
   "source": [
    "# Bigrams using t-Test\n",
    "\n",
    "bigramTTest = pd.DataFrame(list(bigramFinder.score_ngrams(bigrams.student_t)), columns=['Bigram','t-Test Score']).sort_values(by='t-Test Score', ascending=False)\n",
    "filtered_bigram_TTest=bigramFrequency[bigramTTest.Bigram.map(lambda word:filterBigrams(word))]\n",
    "filtered_bigram_TTest[:20]"
   ]
  },
  {
   "cell_type": "markdown",
   "metadata": {},
   "source": [
    "## Extract bigrams using Chi-square Test method (without filtering)"
   ]
  },
  {
   "cell_type": "code",
   "execution_count": 15,
   "metadata": {},
   "outputs": [
    {
     "data": {
      "text/html": [
       "<div>\n",
       "<style scoped>\n",
       "    .dataframe tbody tr th:only-of-type {\n",
       "        vertical-align: middle;\n",
       "    }\n",
       "\n",
       "    .dataframe tbody tr th {\n",
       "        vertical-align: top;\n",
       "    }\n",
       "\n",
       "    .dataframe thead th {\n",
       "        text-align: right;\n",
       "    }\n",
       "</style>\n",
       "<table border=\"1\" class=\"dataframe\">\n",
       "  <thead>\n",
       "    <tr style=\"text-align: right;\">\n",
       "      <th></th>\n",
       "      <th>Bigram</th>\n",
       "      <th>Chi-Square Score</th>\n",
       "    </tr>\n",
       "  </thead>\n",
       "  <tbody>\n",
       "    <tr>\n",
       "      <th>0</th>\n",
       "      <td>(solntze, wpd)</td>\n",
       "      <td>590394.000000</td>\n",
       "    </tr>\n",
       "    <tr>\n",
       "      <th>8</th>\n",
       "      <td>(odwyer, sse)</td>\n",
       "      <td>590394.000000</td>\n",
       "    </tr>\n",
       "    <tr>\n",
       "      <th>13</th>\n",
       "      <td>(timmbake, mcl)</td>\n",
       "      <td>590394.000000</td>\n",
       "    </tr>\n",
       "    <tr>\n",
       "      <th>12</th>\n",
       "      <td>(televison, repo)</td>\n",
       "      <td>590394.000000</td>\n",
       "    </tr>\n",
       "    <tr>\n",
       "      <th>1</th>\n",
       "      <td>(alink, ksand)</td>\n",
       "      <td>590394.000000</td>\n",
       "    </tr>\n",
       "    <tr>\n",
       "      <th>10</th>\n",
       "      <td>(scicom, alphacdc)</td>\n",
       "      <td>590394.000000</td>\n",
       "    </tr>\n",
       "    <tr>\n",
       "      <th>9</th>\n",
       "      <td>(quack, kfu)</td>\n",
       "      <td>590394.000000</td>\n",
       "    </tr>\n",
       "    <tr>\n",
       "      <th>11</th>\n",
       "      <td>(spartan, brocku)</td>\n",
       "      <td>590394.000000</td>\n",
       "    </tr>\n",
       "    <tr>\n",
       "      <th>7</th>\n",
       "      <td>(notre, dame)</td>\n",
       "      <td>590394.000000</td>\n",
       "    </tr>\n",
       "    <tr>\n",
       "      <th>6</th>\n",
       "      <td>(mchp, sni)</td>\n",
       "      <td>590394.000000</td>\n",
       "    </tr>\n",
       "    <tr>\n",
       "      <th>5</th>\n",
       "      <td>(hatching, odwyer)</td>\n",
       "      <td>590394.000000</td>\n",
       "    </tr>\n",
       "    <tr>\n",
       "      <th>4</th>\n",
       "      <td>(evelyn, conlon)</td>\n",
       "      <td>590394.000000</td>\n",
       "    </tr>\n",
       "    <tr>\n",
       "      <th>3</th>\n",
       "      <td>(comme, aucun)</td>\n",
       "      <td>590394.000000</td>\n",
       "    </tr>\n",
       "    <tr>\n",
       "      <th>2</th>\n",
       "      <td>(cnsva, uwec)</td>\n",
       "      <td>590394.000000</td>\n",
       "    </tr>\n",
       "    <tr>\n",
       "      <th>14</th>\n",
       "      <td>(cookamunga, tourist)</td>\n",
       "      <td>581581.164069</td>\n",
       "    </tr>\n",
       "    <tr>\n",
       "      <th>15</th>\n",
       "      <td>(steinn, sigurdsson)</td>\n",
       "      <td>573993.194387</td>\n",
       "    </tr>\n",
       "    <tr>\n",
       "      <th>16</th>\n",
       "      <td>(eau, claire)</td>\n",
       "      <td>568526.592550</td>\n",
       "    </tr>\n",
       "    <tr>\n",
       "      <th>17</th>\n",
       "      <td>(organpipe, uug)</td>\n",
       "      <td>568526.592550</td>\n",
       "    </tr>\n",
       "    <tr>\n",
       "      <th>18</th>\n",
       "      <td>(batman, bmd)</td>\n",
       "      <td>565210.706078</td>\n",
       "    </tr>\n",
       "    <tr>\n",
       "      <th>19</th>\n",
       "      <td>(darice, yoyo)</td>\n",
       "      <td>565088.528246</td>\n",
       "    </tr>\n",
       "  </tbody>\n",
       "</table>\n",
       "</div>"
      ],
      "text/plain": [
       "                   Bigram  Chi-Square Score\n",
       "0          (solntze, wpd)     590394.000000\n",
       "8           (odwyer, sse)     590394.000000\n",
       "13        (timmbake, mcl)     590394.000000\n",
       "12      (televison, repo)     590394.000000\n",
       "1          (alink, ksand)     590394.000000\n",
       "10     (scicom, alphacdc)     590394.000000\n",
       "9            (quack, kfu)     590394.000000\n",
       "11      (spartan, brocku)     590394.000000\n",
       "7           (notre, dame)     590394.000000\n",
       "6             (mchp, sni)     590394.000000\n",
       "5      (hatching, odwyer)     590394.000000\n",
       "4        (evelyn, conlon)     590394.000000\n",
       "3          (comme, aucun)     590394.000000\n",
       "2           (cnsva, uwec)     590394.000000\n",
       "14  (cookamunga, tourist)     581581.164069\n",
       "15   (steinn, sigurdsson)     573993.194387\n",
       "16          (eau, claire)     568526.592550\n",
       "17       (organpipe, uug)     568526.592550\n",
       "18          (batman, bmd)     565210.706078\n",
       "19         (darice, yoyo)     565088.528246"
      ]
     },
     "execution_count": 15,
     "metadata": {},
     "output_type": "execute_result"
    }
   ],
   "source": [
    "# Bigrams using Chi-square Test\n",
    "\n",
    "bigramChiSquare=pd.DataFrame(list(bigramFinder.score_ngrams(bigrams.chi_sq)), columns=['Bigram','Chi-Square Score']).sort_values(by='Chi-Square Score', ascending=False)\n",
    "bigramChiSquare[:20]"
   ]
  },
  {
   "cell_type": "markdown",
   "metadata": {},
   "source": [
    "# Question 1(c)\n",
    "\n",
    "## Comparing all the techniques to analyze the overlapping between them"
   ]
  },
  {
   "cell_type": "code",
   "execution_count": 16,
   "metadata": {},
   "outputs": [
    {
     "data": {
      "text/html": [
       "<div>\n",
       "<style scoped>\n",
       "    .dataframe tbody tr th:only-of-type {\n",
       "        vertical-align: middle;\n",
       "    }\n",
       "\n",
       "    .dataframe tbody tr th {\n",
       "        vertical-align: top;\n",
       "    }\n",
       "\n",
       "    .dataframe thead th {\n",
       "        text-align: right;\n",
       "    }\n",
       "</style>\n",
       "<table border=\"1\" class=\"dataframe\">\n",
       "  <thead>\n",
       "    <tr style=\"text-align: right;\">\n",
       "      <th></th>\n",
       "      <th>Bigram - Frequency Filter</th>\n",
       "      <th>Bigram - PMI</th>\n",
       "      <th>Bigram - T-test Filter</th>\n",
       "      <th>Bigram - Chi-Sq Test</th>\n",
       "    </tr>\n",
       "  </thead>\n",
       "  <tbody>\n",
       "    <tr>\n",
       "      <th>0</th>\n",
       "      <td>(line, article)</td>\n",
       "      <td>(scicom, alphacdc)</td>\n",
       "      <td>(nntp, posting)</td>\n",
       "      <td>(solntze, wpd)</td>\n",
       "    </tr>\n",
       "    <tr>\n",
       "      <th>1</th>\n",
       "      <td>(article, apr)</td>\n",
       "      <td>(televison, repo)</td>\n",
       "      <td>(posting, host)</td>\n",
       "      <td>(odwyer, sse)</td>\n",
       "    </tr>\n",
       "    <tr>\n",
       "      <th>2</th>\n",
       "      <td>(line, nntp)</td>\n",
       "      <td>(evelyn, conlon)</td>\n",
       "      <td>(line, article)</td>\n",
       "      <td>(timmbake, mcl)</td>\n",
       "    </tr>\n",
       "    <tr>\n",
       "      <th>3</th>\n",
       "      <td>(organization, university)</td>\n",
       "      <td>(hatching, odwyer)</td>\n",
       "      <td>(article, apr)</td>\n",
       "      <td>(televison, repo)</td>\n",
       "    </tr>\n",
       "    <tr>\n",
       "      <th>4</th>\n",
       "      <td>(nasa, gov)</td>\n",
       "      <td>(odwyer, sse)</td>\n",
       "      <td>(line, nntp)</td>\n",
       "      <td>(alink, ksand)</td>\n",
       "    </tr>\n",
       "    <tr>\n",
       "      <th>5</th>\n",
       "      <td>(writes, article)</td>\n",
       "      <td>(spartan, brocku)</td>\n",
       "      <td>(organization, university)</td>\n",
       "      <td>(scicom, alphacdc)</td>\n",
       "    </tr>\n",
       "    <tr>\n",
       "      <th>6</th>\n",
       "      <td>(distribution, world)</td>\n",
       "      <td>(mayan, televison)</td>\n",
       "      <td>(nasa, gov)</td>\n",
       "      <td>(quack, kfu)</td>\n",
       "    </tr>\n",
       "    <tr>\n",
       "      <th>7</th>\n",
       "      <td>(caltech, edu)</td>\n",
       "      <td>(hen, evelyn)</td>\n",
       "      <td>(writes, article)</td>\n",
       "      <td>(spartan, brocku)</td>\n",
       "    </tr>\n",
       "    <tr>\n",
       "      <th>8</th>\n",
       "      <td>(uiuc, edu)</td>\n",
       "      <td>(sse, hen)</td>\n",
       "      <td>(distribution, world)</td>\n",
       "      <td>(notre, dame)</td>\n",
       "    </tr>\n",
       "    <tr>\n",
       "      <th>9</th>\n",
       "      <td>(access, dige)</td>\n",
       "      <td>(notre, dame)</td>\n",
       "      <td>(caltech, edu)</td>\n",
       "      <td>(mchp, sni)</td>\n",
       "    </tr>\n",
       "    <tr>\n",
       "      <th>10</th>\n",
       "      <td>(sgi, com)</td>\n",
       "      <td>(duck, pond)</td>\n",
       "      <td>(uiuc, edu)</td>\n",
       "      <td>(hatching, odwyer)</td>\n",
       "    </tr>\n",
       "    <tr>\n",
       "      <th>11</th>\n",
       "      <td>(line, distribution)</td>\n",
       "      <td>(eau, claire)</td>\n",
       "      <td>(access, dige)</td>\n",
       "      <td>(evelyn, conlon)</td>\n",
       "    </tr>\n",
       "    <tr>\n",
       "      <th>12</th>\n",
       "      <td>(apple, com)</td>\n",
       "      <td>(organpipe, uug)</td>\n",
       "      <td>(sgi, com)</td>\n",
       "      <td>(comme, aucun)</td>\n",
       "    </tr>\n",
       "    <tr>\n",
       "      <th>13</th>\n",
       "      <td>(cmu, edu)</td>\n",
       "      <td>(wale, larrison)</td>\n",
       "      <td>(line, distribution)</td>\n",
       "      <td>(cnsva, uwec)</td>\n",
       "    </tr>\n",
       "    <tr>\n",
       "      <th>14</th>\n",
       "      <td>(edu, keith)</td>\n",
       "      <td>(telos, aweto)</td>\n",
       "      <td>(cmu, edu)</td>\n",
       "      <td>(cookamunga, tourist)</td>\n",
       "    </tr>\n",
       "    <tr>\n",
       "      <th>15</th>\n",
       "      <td>(wpd, sgi)</td>\n",
       "      <td>(physik, unizh)</td>\n",
       "      <td>(edu, organization)</td>\n",
       "      <td>(steinn, sigurdsson)</td>\n",
       "    </tr>\n",
       "    <tr>\n",
       "      <th>16</th>\n",
       "      <td>(solntze, wpd)</td>\n",
       "      <td>(southwestern, louisiana)</td>\n",
       "      <td>(wpd, sgi)</td>\n",
       "      <td>(eau, claire)</td>\n",
       "    </tr>\n",
       "    <tr>\n",
       "      <th>17</th>\n",
       "      <td>(toronto, edu)</td>\n",
       "      <td>(comme, aucun)</td>\n",
       "      <td>(solntze, wpd)</td>\n",
       "      <td>(organpipe, uug)</td>\n",
       "    </tr>\n",
       "    <tr>\n",
       "      <th>18</th>\n",
       "      <td>(world, nntp)</td>\n",
       "      <td>(theporch, raider)</td>\n",
       "      <td>(toronto, edu)</td>\n",
       "      <td>(batman, bmd)</td>\n",
       "    </tr>\n",
       "    <tr>\n",
       "      <th>19</th>\n",
       "      <td>(cso, uiuc)</td>\n",
       "      <td>(jut, ccc)</td>\n",
       "      <td>(world, nntp)</td>\n",
       "      <td>(darice, yoyo)</td>\n",
       "    </tr>\n",
       "  </tbody>\n",
       "</table>\n",
       "</div>"
      ],
      "text/plain": [
       "     Bigram - Frequency Filter               Bigram - PMI  \\\n",
       "0              (line, article)         (scicom, alphacdc)   \n",
       "1               (article, apr)          (televison, repo)   \n",
       "2                 (line, nntp)           (evelyn, conlon)   \n",
       "3   (organization, university)         (hatching, odwyer)   \n",
       "4                  (nasa, gov)              (odwyer, sse)   \n",
       "5            (writes, article)          (spartan, brocku)   \n",
       "6        (distribution, world)         (mayan, televison)   \n",
       "7               (caltech, edu)              (hen, evelyn)   \n",
       "8                  (uiuc, edu)                 (sse, hen)   \n",
       "9               (access, dige)              (notre, dame)   \n",
       "10                  (sgi, com)               (duck, pond)   \n",
       "11        (line, distribution)              (eau, claire)   \n",
       "12                (apple, com)           (organpipe, uug)   \n",
       "13                  (cmu, edu)           (wale, larrison)   \n",
       "14                (edu, keith)             (telos, aweto)   \n",
       "15                  (wpd, sgi)            (physik, unizh)   \n",
       "16              (solntze, wpd)  (southwestern, louisiana)   \n",
       "17              (toronto, edu)             (comme, aucun)   \n",
       "18               (world, nntp)         (theporch, raider)   \n",
       "19                 (cso, uiuc)                 (jut, ccc)   \n",
       "\n",
       "        Bigram - T-test Filter   Bigram - Chi-Sq Test  \n",
       "0              (nntp, posting)         (solntze, wpd)  \n",
       "1              (posting, host)          (odwyer, sse)  \n",
       "2              (line, article)        (timmbake, mcl)  \n",
       "3               (article, apr)      (televison, repo)  \n",
       "4                 (line, nntp)         (alink, ksand)  \n",
       "5   (organization, university)     (scicom, alphacdc)  \n",
       "6                  (nasa, gov)           (quack, kfu)  \n",
       "7            (writes, article)      (spartan, brocku)  \n",
       "8        (distribution, world)          (notre, dame)  \n",
       "9               (caltech, edu)            (mchp, sni)  \n",
       "10                 (uiuc, edu)     (hatching, odwyer)  \n",
       "11              (access, dige)       (evelyn, conlon)  \n",
       "12                  (sgi, com)         (comme, aucun)  \n",
       "13        (line, distribution)          (cnsva, uwec)  \n",
       "14                  (cmu, edu)  (cookamunga, tourist)  \n",
       "15         (edu, organization)   (steinn, sigurdsson)  \n",
       "16                  (wpd, sgi)          (eau, claire)  \n",
       "17              (solntze, wpd)       (organpipe, uug)  \n",
       "18              (toronto, edu)          (batman, bmd)  \n",
       "19               (world, nntp)         (darice, yoyo)  "
      ]
     },
     "execution_count": 16,
     "metadata": {},
     "output_type": "execute_result"
    }
   ],
   "source": [
    "bigram_frequency=filtered_bigramFrequency.Bigram.values\n",
    "bigram_pmi=bigramPMI.Bigram.values\n",
    "bigram_tTest=filtered_bigram_TTest.Bigram.values\n",
    "bigram_chisquare=bigramChiSquare.Bigram.values\n",
    "\n",
    "df_final_bigram_comparison=pd.DataFrame([bigram_frequency,bigram_pmi,bigram_tTest,bigram_chisquare]).T\n",
    "df_final_bigram_comparison.columns = ['Bigram - Frequency Filter', 'Bigram - PMI', 'Bigram - T-test Filter', 'Bigram - Chi-Sq Test']\n",
    "df_final_bigram_comparison[:20]"
   ]
  },
  {
   "cell_type": "code",
   "execution_count": 17,
   "metadata": {},
   "outputs": [
    {
     "data": {
      "text/plain": [
       "0      True\n",
       "1      True\n",
       "2      True\n",
       "3      True\n",
       "4      True\n",
       "5      True\n",
       "6      True\n",
       "7      True\n",
       "8      True\n",
       "9      True\n",
       "10     True\n",
       "11     True\n",
       "12    False\n",
       "13     True\n",
       "14    False\n",
       "15     True\n",
       "16     True\n",
       "17     True\n",
       "18     True\n",
       "19     True\n",
       "Name: Bigram - Frequency Filter, dtype: bool"
      ]
     },
     "execution_count": 17,
     "metadata": {},
     "output_type": "execute_result"
    }
   ],
   "source": [
    "df_frequency_tTest=df_final_bigram_comparison[\"Bigram - Frequency Filter\"].isin(df_final_bigram_comparison[\"Bigram - T-test Filter\"])\n",
    "df_frequency_tTest[:20]"
   ]
  },
  {
   "cell_type": "code",
   "execution_count": 18,
   "metadata": {},
   "outputs": [
    {
     "data": {
      "text/plain": [
       "0     True\n",
       "1     True\n",
       "2     True\n",
       "3     True\n",
       "4     True\n",
       "5     True\n",
       "6     True\n",
       "7     True\n",
       "8     True\n",
       "9     True\n",
       "10    True\n",
       "11    True\n",
       "12    True\n",
       "13    True\n",
       "14    True\n",
       "15    True\n",
       "16    True\n",
       "17    True\n",
       "18    True\n",
       "19    True\n",
       "Name: Bigram - PMI, dtype: bool"
      ]
     },
     "execution_count": 18,
     "metadata": {},
     "output_type": "execute_result"
    }
   ],
   "source": [
    "df_PMI_chi=df_final_bigram_comparison[\"Bigram - PMI\"].isin(df_final_bigram_comparison[\"Bigram - Chi-Sq Test\"])\n",
    "df_PMI_chi[:20]"
   ]
  },
  {
   "cell_type": "markdown",
   "metadata": {},
   "source": [
    "## Results of Question 1(c)\n",
    "\n",
    "### Check overlapping of the results among the four techniques \n",
    "\n",
    "After fetching the bi-grams using four techniques i.e. Frequency (with filter), PMI Test (without filter), t-Test (with filter) and Chi-square test (without filter), all the bi-grams were combined to analyze the overlapping among the techniques.\n",
    "\n",
    "It was observed from the above results, that frequency and t-Test methods are quite similar. After comparing the 20 results of two previously mentioned mehtods using isin() method, it was observed that 18 out of 20 results were overlapping. \n",
    "\n",
    "On the other hand PMI and chi-square gives better results as all the values (top 20 results) are overlapping with each other even without applying any filtering."
   ]
  },
  {
   "cell_type": "markdown",
   "metadata": {},
   "source": [
    "# Question 2"
   ]
  },
  {
   "cell_type": "markdown",
   "metadata": {},
   "source": [
    "# Question 2(a)\n",
    "\n",
    "## Cleaning Data\n",
    "\n",
    "### Removed Numbers, Punctuations and Special Characters using Regex from the raw data\n",
    "\n",
    "The punctuations and some special characters were removed using Regex. Moreover, the data contained 'x+' characters which were also removed during the cleaning process."
   ]
  },
  {
   "cell_type": "code",
   "execution_count": 19,
   "metadata": {},
   "outputs": [
    {
     "data": {
      "text/plain": [
       "'from  healta saturn wwc edu  tammy r healy  subject  re  who are we to judge  bobby  lines     organization  walla walla college lines      in article      apr                ultb isc rit edu  snm     ultb isc rit edu  s n  mozumder   writes   from  snm     ultb isc rit edu  s n  mozumder    subject  re  who are we to judge  bobby   date  wed     apr               gmt  in article  healta              saturn wwc edu  healta saturn wwc edu  tammy r healy  writes    bobby       i would like to take the liberty to quote from a christian writer named    ellen g  white   i hope that what she said will help you to edit your    remarks in this group in the future        do not set yourself as a standard   do not make your opinions  your views    of duty  your interpretations of scripture  a criterion for others and in    your heart condemn them if they do not come up to your ideal                              thoughts fromthe mount of blessing p           i hope quoting this doesn t make the atheists gag  but i think ellen white    put it better than i could        tammy    point     peace     bobby mozumder   my point is that you set up your views as the only way to believe   saying  that all eveil in this world is caused by atheism is ridiculous and  counterproductive to dialogue in this newsgroups   i see in your posts a  spirit of condemnation of the atheists in this newsgroup bacause they don  t believe exactly as you do   if you re here to try to convert the atheists  here  you re failing miserably   who wants to be in position of constantly  defending themselves agaist insulting attacks  like you seem to like to do   i m sorry you re so blind that you didn t get the messgae in the quote   everyone else has seemed to   tammy '"
      ]
     },
     "execution_count": 19,
     "metadata": {},
     "output_type": "execute_result"
    }
   ],
   "source": [
    "pattern='[^A-Za-z]'\n",
    "result_q2= [re.sub(pattern, ' ', word.lower()) for word in newsgroups.data] \n",
    "result_q2[0]"
   ]
  },
  {
   "cell_type": "code",
   "execution_count": 20,
   "metadata": {},
   "outputs": [
    {
     "data": {
      "text/plain": [
       "'from  healta saturn wwc edu  tammy r healy  subject  re  who are we to judge  bobby  lines     organization  walla walla college lines      in article      apr                ultb isc rit edu  snm     ultb isc rit edu  s n  mozumder   writes   from  snm     ultb isc rit edu  s n  mozumder    subject  re  who are we to judge  bobby   date  wed     apr               gmt  in article  healta              saturn wwc edu  healta saturn wwc edu  tammy r healy  writes    bobby       i would like to take the liberty to quote from a christian writer named    ellen g  white   i hope that what she said will help you to edit your    remarks in this group in the future        do not set yourself as a standard   do not make your opinions  your views    of duty  your interpretations of scripture  a criterion for others and in    your heart condemn them if they do not come up to your ideal                              thoughts fromthe mount of blessing p           i hope quoting this doesn t make the atheists gag  but i think ellen white    put it better than i could        tammy    point     peace     bobby mozumder   my point is that you set up your views as the only way to believe   saying  that all eveil in this world is caused by atheism is ridiculous and  counterproductive to dialogue in this newsgroups   i see in your posts a  spirit of condemnation of the atheists in this newsgroup bacause they don  t believe eactly as you do   if you re here to try to convert the atheists  here  you re failing miserably   who wants to be in position of constantly  defending themselves agaist insulting attacks  like you seem to like to do   i m sorry you re so blind that you didn t get the messgae in the quote   everyone else has seemed to   tammy '"
      ]
     },
     "execution_count": 20,
     "metadata": {},
     "output_type": "execute_result"
    }
   ],
   "source": [
    "result_1_q2=[re.sub('x+', '', word) for word in result_q2] \n",
    "result_1_q2[0]"
   ]
  },
  {
   "cell_type": "markdown",
   "metadata": {},
   "source": [
    "## Word Tokenization after cleaning process  "
   ]
  },
  {
   "cell_type": "code",
   "execution_count": 21,
   "metadata": {},
   "outputs": [
    {
     "name": "stderr",
     "output_type": "stream",
     "text": [
      "[nltk_data] Downloading package punkt to\n",
      "[nltk_data]     C:\\Users\\ykd10\\AppData\\Roaming\\nltk_data...\n",
      "[nltk_data]   Package punkt is already up-to-date!\n"
     ]
    }
   ],
   "source": [
    "nltk.download('punkt')\n",
    "\n",
    "result_word_tokenized_2=[]\n",
    "for word in result_1_q2:\n",
    "    result_word_tokenized_2.append(word_tokenize(word))"
   ]
  },
  {
   "cell_type": "markdown",
   "metadata": {},
   "source": [
    "## Remove English Stop Words using Stop Words dictionary provided by nltk"
   ]
  },
  {
   "cell_type": "code",
   "execution_count": 22,
   "metadata": {},
   "outputs": [
    {
     "name": "stderr",
     "output_type": "stream",
     "text": [
      "[nltk_data] Downloading package stopwords to\n",
      "[nltk_data]     C:\\Users\\ykd10\\AppData\\Roaming\\nltk_data...\n",
      "[nltk_data]   Package stopwords is already up-to-date!\n"
     ]
    },
    {
     "data": {
      "text/plain": [
       "['healta',\n",
       " 'saturn',\n",
       " 'wwc',\n",
       " 'edu',\n",
       " 'tammy',\n",
       " 'r',\n",
       " 'healy',\n",
       " 'subject',\n",
       " 'judge',\n",
       " 'bobby',\n",
       " 'lines',\n",
       " 'organization',\n",
       " 'walla',\n",
       " 'walla',\n",
       " 'college',\n",
       " 'lines',\n",
       " 'article',\n",
       " 'apr',\n",
       " 'ultb',\n",
       " 'isc',\n",
       " 'rit',\n",
       " 'edu',\n",
       " 'snm',\n",
       " 'ultb',\n",
       " 'isc',\n",
       " 'rit',\n",
       " 'edu',\n",
       " 'n',\n",
       " 'mozumder',\n",
       " 'writes',\n",
       " 'snm',\n",
       " 'ultb',\n",
       " 'isc',\n",
       " 'rit',\n",
       " 'edu',\n",
       " 'n',\n",
       " 'mozumder',\n",
       " 'subject',\n",
       " 'judge',\n",
       " 'bobby',\n",
       " 'date',\n",
       " 'wed',\n",
       " 'apr',\n",
       " 'gmt',\n",
       " 'article',\n",
       " 'healta',\n",
       " 'saturn',\n",
       " 'wwc',\n",
       " 'edu',\n",
       " 'healta',\n",
       " 'saturn',\n",
       " 'wwc',\n",
       " 'edu',\n",
       " 'tammy',\n",
       " 'r',\n",
       " 'healy',\n",
       " 'writes',\n",
       " 'bobby',\n",
       " 'would',\n",
       " 'like',\n",
       " 'take',\n",
       " 'liberty',\n",
       " 'quote',\n",
       " 'christian',\n",
       " 'writer',\n",
       " 'named',\n",
       " 'ellen',\n",
       " 'g',\n",
       " 'white',\n",
       " 'hope',\n",
       " 'said',\n",
       " 'help',\n",
       " 'edit',\n",
       " 'remarks',\n",
       " 'group',\n",
       " 'future',\n",
       " 'set',\n",
       " 'standard',\n",
       " 'make',\n",
       " 'opinions',\n",
       " 'views',\n",
       " 'duty',\n",
       " 'interpretations',\n",
       " 'scripture',\n",
       " 'criterion',\n",
       " 'others',\n",
       " 'heart',\n",
       " 'condemn',\n",
       " 'come',\n",
       " 'ideal',\n",
       " 'thoughts',\n",
       " 'fromthe',\n",
       " 'mount',\n",
       " 'blessing',\n",
       " 'p',\n",
       " 'hope',\n",
       " 'quoting',\n",
       " 'make',\n",
       " 'atheists',\n",
       " 'gag',\n",
       " 'think',\n",
       " 'ellen',\n",
       " 'white',\n",
       " 'put',\n",
       " 'better',\n",
       " 'could',\n",
       " 'tammy',\n",
       " 'point',\n",
       " 'peace',\n",
       " 'bobby',\n",
       " 'mozumder',\n",
       " 'point',\n",
       " 'set',\n",
       " 'views',\n",
       " 'way',\n",
       " 'believe',\n",
       " 'saying',\n",
       " 'eveil',\n",
       " 'world',\n",
       " 'caused',\n",
       " 'atheism',\n",
       " 'ridiculous',\n",
       " 'counterproductive',\n",
       " 'dialogue',\n",
       " 'newsgroups',\n",
       " 'see',\n",
       " 'posts',\n",
       " 'spirit',\n",
       " 'condemnation',\n",
       " 'atheists',\n",
       " 'newsgroup',\n",
       " 'bacause',\n",
       " 'believe',\n",
       " 'eactly',\n",
       " 'try',\n",
       " 'convert',\n",
       " 'atheists',\n",
       " 'failing',\n",
       " 'miserably',\n",
       " 'wants',\n",
       " 'position',\n",
       " 'constantly',\n",
       " 'defending',\n",
       " 'agaist',\n",
       " 'insulting',\n",
       " 'attacks',\n",
       " 'like',\n",
       " 'seem',\n",
       " 'like',\n",
       " 'sorry',\n",
       " 'blind',\n",
       " 'get',\n",
       " 'messgae',\n",
       " 'quote',\n",
       " 'everyone',\n",
       " 'else',\n",
       " 'seemed',\n",
       " 'tammy']"
      ]
     },
     "execution_count": 22,
     "metadata": {},
     "output_type": "execute_result"
    }
   ],
   "source": [
    "nltk.download('stopwords')\n",
    "stop_words=set(stopwords.words(\"english\"))\n",
    "\n",
    "result_remove_stop_words_2=[]\n",
    "temp_stop_words_2=[]\n",
    "\n",
    "for sublist in result_word_tokenized_2:\n",
    "    for word in sublist:\n",
    "        if word not in stop_words:\n",
    "            temp_stop_words_2.append(word)\n",
    "    result_remove_stop_words_2.append(temp_stop_words_2)\n",
    "    temp_stop_words_2=[]\n",
    "result_remove_stop_words_2[0]"
   ]
  },
  {
   "cell_type": "markdown",
   "metadata": {},
   "source": [
    "## Perform stemming on words after removing stop words"
   ]
  },
  {
   "cell_type": "code",
   "execution_count": 23,
   "metadata": {},
   "outputs": [
    {
     "data": {
      "text/plain": [
       "['healta',\n",
       " 'saturn',\n",
       " 'wwc',\n",
       " 'edu',\n",
       " 'tammi',\n",
       " 'r',\n",
       " 'heali',\n",
       " 'subject',\n",
       " 'judg',\n",
       " 'bobbi',\n",
       " 'line',\n",
       " 'organ',\n",
       " 'walla',\n",
       " 'walla',\n",
       " 'colleg',\n",
       " 'line',\n",
       " 'articl',\n",
       " 'apr',\n",
       " 'ultb',\n",
       " 'isc',\n",
       " 'rit',\n",
       " 'edu',\n",
       " 'snm',\n",
       " 'ultb',\n",
       " 'isc',\n",
       " 'rit',\n",
       " 'edu',\n",
       " 'n',\n",
       " 'mozumd',\n",
       " 'write',\n",
       " 'snm',\n",
       " 'ultb',\n",
       " 'isc',\n",
       " 'rit',\n",
       " 'edu',\n",
       " 'n',\n",
       " 'mozumd',\n",
       " 'subject',\n",
       " 'judg',\n",
       " 'bobbi',\n",
       " 'date',\n",
       " 'wed',\n",
       " 'apr',\n",
       " 'gmt',\n",
       " 'articl',\n",
       " 'healta',\n",
       " 'saturn',\n",
       " 'wwc',\n",
       " 'edu',\n",
       " 'healta',\n",
       " 'saturn',\n",
       " 'wwc',\n",
       " 'edu',\n",
       " 'tammi',\n",
       " 'r',\n",
       " 'heali',\n",
       " 'write',\n",
       " 'bobbi',\n",
       " 'would',\n",
       " 'like',\n",
       " 'take',\n",
       " 'liberti',\n",
       " 'quot',\n",
       " 'christian',\n",
       " 'writer',\n",
       " 'name',\n",
       " 'ellen',\n",
       " 'g',\n",
       " 'white',\n",
       " 'hope',\n",
       " 'said',\n",
       " 'help',\n",
       " 'edit',\n",
       " 'remark',\n",
       " 'group',\n",
       " 'futur',\n",
       " 'set',\n",
       " 'standard',\n",
       " 'make',\n",
       " 'opinion',\n",
       " 'view',\n",
       " 'duti',\n",
       " 'interpret',\n",
       " 'scriptur',\n",
       " 'criterion',\n",
       " 'other',\n",
       " 'heart',\n",
       " 'condemn',\n",
       " 'come',\n",
       " 'ideal',\n",
       " 'thought',\n",
       " 'fromth',\n",
       " 'mount',\n",
       " 'bless',\n",
       " 'p',\n",
       " 'hope',\n",
       " 'quot',\n",
       " 'make',\n",
       " 'atheist',\n",
       " 'gag',\n",
       " 'think',\n",
       " 'ellen',\n",
       " 'white',\n",
       " 'put',\n",
       " 'better',\n",
       " 'could',\n",
       " 'tammi',\n",
       " 'point',\n",
       " 'peac',\n",
       " 'bobbi',\n",
       " 'mozumd',\n",
       " 'point',\n",
       " 'set',\n",
       " 'view',\n",
       " 'way',\n",
       " 'believ',\n",
       " 'say',\n",
       " 'eveil',\n",
       " 'world',\n",
       " 'caus',\n",
       " 'atheism',\n",
       " 'ridicul',\n",
       " 'counterproduct',\n",
       " 'dialogu',\n",
       " 'newsgroup',\n",
       " 'see',\n",
       " 'post',\n",
       " 'spirit',\n",
       " 'condemn',\n",
       " 'atheist',\n",
       " 'newsgroup',\n",
       " 'bacaus',\n",
       " 'believ',\n",
       " 'eactli',\n",
       " 'tri',\n",
       " 'convert',\n",
       " 'atheist',\n",
       " 'fail',\n",
       " 'miser',\n",
       " 'want',\n",
       " 'posit',\n",
       " 'constantli',\n",
       " 'defend',\n",
       " 'agaist',\n",
       " 'insult',\n",
       " 'attack',\n",
       " 'like',\n",
       " 'seem',\n",
       " 'like',\n",
       " 'sorri',\n",
       " 'blind',\n",
       " 'get',\n",
       " 'messga',\n",
       " 'quot',\n",
       " 'everyon',\n",
       " 'els',\n",
       " 'seem',\n",
       " 'tammi']"
      ]
     },
     "execution_count": 23,
     "metadata": {},
     "output_type": "execute_result"
    }
   ],
   "source": [
    "# Stemming after removing stop words\n",
    "\n",
    "porterStemmer = PorterStemmer()\n",
    "\n",
    "result_stemmed_words_2=[]\n",
    "temp_stemmed_words_2=[]\n",
    "\n",
    "for sublist in result_remove_stop_words_2:\n",
    "    for word in sublist:\n",
    "        temp_stemmed_words_2.append(porterStemmer.stem(word))\n",
    "    result_stemmed_words_2.append(temp_stemmed_words_2)\n",
    "    temp_stemmed_words_2=[]\n",
    "result_stemmed_words_2[0]"
   ]
  },
  {
   "cell_type": "markdown",
   "metadata": {},
   "source": [
    "# Question 2(b) - Feature Extraction"
   ]
  },
  {
   "cell_type": "markdown",
   "metadata": {},
   "source": [
    "## Initialize Tf-idf vector object for feature extraction and convert it into vectors for modelling"
   ]
  },
  {
   "cell_type": "code",
   "execution_count": 24,
   "metadata": {},
   "outputs": [],
   "source": [
    "# Flattened the list of list for feature extraction\n",
    "vector_list=[' '.join(sublist) for sublist in result_stemmed_words_2]\n",
    "\n",
    "# Feature Extraction\n",
    "newsgroups_vectorizer=TfidfVectorizer()\n",
    "newsgroups_vectors=newsgroups_vectorizer.fit_transform(vector_list)"
   ]
  },
  {
   "cell_type": "markdown",
   "metadata": {},
   "source": [
    "# Question 2(c)\n",
    "\n",
    "## Split the data into train (70%) and test (30%) dataset\n",
    "\n",
    "Here, the training data is the vectors obtained from feature extraction and the test data is \"newsgroups.target\"."
   ]
  },
  {
   "cell_type": "code",
   "execution_count": 25,
   "metadata": {},
   "outputs": [],
   "source": [
    "X=newsgroups_vectors\n",
    "y=newsgroups.target\n",
    "X_train, X_test, y_train, y_test = train_test_split(X, y, test_size=0.3,random_state=30)"
   ]
  },
  {
   "cell_type": "markdown",
   "metadata": {},
   "source": [
    "## Train the model using Multinomial NB algorithm which is used for classifying discrete features\n",
    "\n",
    "### Results\n",
    "\n",
    "An accuracy of 94.99% has been resulted using Multinomial NB"
   ]
  },
  {
   "cell_type": "code",
   "execution_count": 26,
   "metadata": {},
   "outputs": [
    {
     "name": "stdout",
     "output_type": "stream",
     "text": [
      "Accuracy using MultinomialNB: 94.99%\n"
     ]
    }
   ],
   "source": [
    "# Multinomial NB\n",
    "\n",
    "multinomialNB=MultinomialNB(alpha=.01)\n",
    "multinomialNB.fit(X_train,y_train)\n",
    "predict_multinomialNB=multinomialNB.predict(X_test)\n",
    "print(\"Accuracy using MultinomialNB: \" + \"{:.2%}\".format(metrics.accuracy_score(y_test,predict_multinomialNB)))"
   ]
  },
  {
   "cell_type": "markdown",
   "metadata": {},
   "source": [
    "## Confusion Matrix for the above result obtained using Multinomial NB showing confusion between classes."
   ]
  },
  {
   "cell_type": "code",
   "execution_count": 27,
   "metadata": {},
   "outputs": [
    {
     "name": "stdout",
     "output_type": "stream",
     "text": [
      "[[221   0   0  17]\n",
      " [  1 283   6   2]\n",
      " [  1   5 293   3]\n",
      " [ 15   1   0 169]]\n"
     ]
    }
   ],
   "source": [
    "# Confusion Matrix for Multinomial NB\n",
    "\n",
    "cnfmatrix_multinomialNB=confusion_matrix(y_test,predict_multinomialNB)\n",
    "print(cnfmatrix_multinomialNB)"
   ]
  },
  {
   "cell_type": "markdown",
   "metadata": {},
   "source": [
    "## Plotting Confusion Matrix (Multinomial NB)"
   ]
  },
  {
   "cell_type": "code",
   "execution_count": 28,
   "metadata": {},
   "outputs": [
    {
     "data": {
      "text/plain": [
       "<matplotlib.axes._subplots.AxesSubplot at 0x28a6beeae80>"
      ]
     },
     "execution_count": 28,
     "metadata": {},
     "output_type": "execute_result"
    },
    {
     "data": {
      "image/png": "[encoded data removed]",
      "text/plain": [
       "<Figure size 720x504 with 2 Axes>"
      ]
     },
     "metadata": {
      "needs_background": "light"
     },
     "output_type": "display_data"
    }
   ],
   "source": [
    "# Plot confusion matrix for Multinomial NB\n",
    "\n",
    "df_cnfmatrix_multinomialNB=pd.DataFrame(cnfmatrix_multinomialNB, index=['atheism','religion','graphics','space'], \n",
    "                                        columns=['atheism','religion','graphics','space'])\n",
    "plt.figure(figsize=(10,7))\n",
    "sbn.set(font_scale=1.5)\n",
    "sbn.heatmap(df_cnfmatrix_multinomialNB, cmap=\"OrRd\", annot=True,xticklabels=True, yticklabels=True)"
   ]
  },
  {
   "cell_type": "markdown",
   "metadata": {},
   "source": [
    "## SVM\n",
    "\n",
    "## Train the model using Support Vector Machine (SVM) Classifier\n",
    "\n",
    "### Results \n",
    "\n",
    "An accuracy of 95.77% has been resulted using Multinomial NB"
   ]
  },
  {
   "cell_type": "code",
   "execution_count": 29,
   "metadata": {},
   "outputs": [
    {
     "name": "stdout",
     "output_type": "stream",
     "text": [
      "Accuracy using SVM Classifier - Linear Kernel: 95.77%\n"
     ]
    }
   ],
   "source": [
    "# Linear Kernel\n",
    "\n",
    "svcClassifier=SVC(kernel='linear', C=1, gamma=2, random_state=45)\n",
    "svcClassifier.fit(X_train,y_train)\n",
    "predict_svcClassifier=svcClassifier.predict(X_test)\n",
    "print(\"Accuracy using SVM Classifier - Linear Kernel: \" + \"{:.2%}\".format(metrics.accuracy_score(y_test,predict_svcClassifier)))"
   ]
  },
  {
   "cell_type": "markdown",
   "metadata": {},
   "source": [
    "## Confusion matrix for the above result obtained using SVM (Linear Kernel) showing confusion between classes."
   ]
  },
  {
   "cell_type": "code",
   "execution_count": 30,
   "metadata": {},
   "outputs": [
    {
     "name": "stdout",
     "output_type": "stream",
     "text": [
      "[[219   3   1  15]\n",
      " [  0 289   3   0]\n",
      " [  1   6 293   2]\n",
      " [ 10   2   0 173]]\n"
     ]
    }
   ],
   "source": [
    "# Confusion Matrix for SVM - Linear\n",
    "\n",
    "cnfmatrix_svcClassifier=confusion_matrix(y_test,predict_svcClassifier)\n",
    "print(cnfmatrix_svcClassifier)"
   ]
  },
  {
   "cell_type": "markdown",
   "metadata": {},
   "source": [
    "## Confusion Matrix for SVM - Linear"
   ]
  },
  {
   "cell_type": "code",
   "execution_count": 31,
   "metadata": {},
   "outputs": [
    {
     "data": {
      "text/plain": [
       "<matplotlib.axes._subplots.AxesSubplot at 0x28a6c343898>"
      ]
     },
     "execution_count": 31,
     "metadata": {},
     "output_type": "execute_result"
    },
    {
     "data": {
      "image/png": "[encoded data removed]",
      "text/plain": [
       "<Figure size 720x360 with 2 Axes>"
      ]
     },
     "metadata": {},
     "output_type": "display_data"
    }
   ],
   "source": [
    "# Plot confusion matrix for SVM - Linear\n",
    "\n",
    "df_cnfmatrix_svcClassifier=pd.DataFrame(cnfmatrix_svcClassifier, index=['atheism','religion','graphics','space'], \n",
    "                                        columns=['atheism','religion','graphics','space'])\n",
    "plt.figure(figsize=(10,5))\n",
    "sbn.set(font_scale=1.5)\n",
    "sbn.heatmap(df_cnfmatrix_svcClassifier, cmap=\"OrRd\", annot=True)"
   ]
  },
  {
   "cell_type": "markdown",
   "metadata": {},
   "source": [
    "## Changing kernel \n",
    "\n",
    "By changing kernel to Polynomial and RBF, we can analyze that the accuracy gradually decreases to 82.10% and 92.72% using Polynomial and RBF kernel respectively.\n",
    "\n",
    "Moreover, the confusion between the classes also gradually decreases for both the kernels as shown below."
   ]
  },
  {
   "cell_type": "markdown",
   "metadata": {},
   "source": [
    "## SVM - Polynomial Kernel"
   ]
  },
  {
   "cell_type": "code",
   "execution_count": 32,
   "metadata": {},
   "outputs": [
    {
     "name": "stdout",
     "output_type": "stream",
     "text": [
      "Accuracy using SVM Classifier - Polynomial Kernel: 82.10%\n"
     ]
    }
   ],
   "source": [
    "# Polynomial Kernel\n",
    "\n",
    "svcClassifier_polynomial=SVC(kernel='poly',C=1, gamma=2, random_state=45)\n",
    "svcClassifier_polynomial.fit(X_train,y_train)\n",
    "predict_svcClassifier_polynomial=svcClassifier_polynomial.predict(X_test)\n",
    "print(\"Accuracy using SVM Classifier - Polynomial Kernel: \"+\"{:.2%}\".format(metrics.accuracy_score(y_test,predict_svcClassifier_polynomial)))"
   ]
  },
  {
   "cell_type": "code",
   "execution_count": 33,
   "metadata": {},
   "outputs": [
    {
     "name": "stdout",
     "output_type": "stream",
     "text": [
      "[[179  52   0   7]\n",
      " [  0 290   2   0]\n",
      " [  1  53 248   0]\n",
      " [  9  57   1 118]]\n"
     ]
    }
   ],
   "source": [
    "# Confusion Matrix for SVM - Polynomial\n",
    "\n",
    "cnfmatrix_svcClassifier_polynomial=confusion_matrix(y_test,predict_svcClassifier_polynomial)\n",
    "print(cnfmatrix_svcClassifier_polynomial)"
   ]
  },
  {
   "cell_type": "markdown",
   "metadata": {},
   "source": [
    "## SVM - RBF Kernel"
   ]
  },
  {
   "cell_type": "code",
   "execution_count": 34,
   "metadata": {},
   "outputs": [
    {
     "name": "stdout",
     "output_type": "stream",
     "text": [
      "Accuracy using SVC Classifier - RBF Kernel: 92.72%\n"
     ]
    }
   ],
   "source": [
    "# RBF Kernel\n",
    "\n",
    "svcClassifier_rbf=SVC(kernel='rbf', C=1, gamma=2, random_state=45)\n",
    "svcClassifier_rbf.fit(X_train,y_train)\n",
    "predict_svcClassifier_rbf=svcClassifier_rbf.predict(X_test)\n",
    "print(\"Accuracy using SVC Classifier - RBF Kernel: \"+\"{:.2%}\".format(metrics.accuracy_score(y_test,predict_svcClassifier_rbf)))"
   ]
  },
  {
   "cell_type": "code",
   "execution_count": 35,
   "metadata": {},
   "outputs": [
    {
     "name": "stdout",
     "output_type": "stream",
     "text": [
      "[[215   9   0  14]\n",
      " [  0 289   3   0]\n",
      " [  0  15 287   0]\n",
      " [ 14  15   4 152]]\n"
     ]
    }
   ],
   "source": [
    "# Confusion Matrix for SVM - RBF\n",
    "\n",
    "cnfmatrix_svcClassifier_rbf=confusion_matrix(y_test,predict_svcClassifier_rbf)\n",
    "print(cnfmatrix_svcClassifier_rbf)"
   ]
  },
  {
   "cell_type": "markdown",
   "metadata": {},
   "source": [
    "# Question 2(d)"
   ]
  },
  {
   "cell_type": "markdown",
   "metadata": {},
   "source": [
    "## Removed Numbers, Punctuations and Special Characters using Regex from raw data\n",
    "\n",
    "The punctuations and some special characters were removed using Regex. Moreover, the data contained 'x+' characters which were also removed during the cleaning process."
   ]
  },
  {
   "cell_type": "code",
   "execution_count": 36,
   "metadata": {},
   "outputs": [],
   "source": [
    "# Remove Numbers, Punctuation and Special Characters from Raw Data\n",
    "\n",
    "pattern='[\\W\\d_]'\n",
    "result_raw=[re.sub(pattern, ' ', word.lower()) for word in newsgroups.data] "
   ]
  },
  {
   "cell_type": "code",
   "execution_count": 37,
   "metadata": {},
   "outputs": [],
   "source": [
    "# Removes x+ characters from Raw Data\n",
    "\n",
    "result_1_raw = [re.sub('x+', '', word) for word in result_raw] "
   ]
  },
  {
   "cell_type": "markdown",
   "metadata": {},
   "source": [
    "## Word Tokenization of raw data"
   ]
  },
  {
   "cell_type": "code",
   "execution_count": 38,
   "metadata": {},
   "outputs": [
    {
     "name": "stderr",
     "output_type": "stream",
     "text": [
      "[nltk_data] Downloading package punkt to\n",
      "[nltk_data]     C:\\Users\\ykd10\\AppData\\Roaming\\nltk_data...\n",
      "[nltk_data]   Package punkt is already up-to-date!\n"
     ]
    }
   ],
   "source": [
    "# Tokenization of Raw data\n",
    "\n",
    "from nltk.tokenize import word_tokenize\n",
    "nltk.download('punkt')\n",
    "result_word_tokenized_raw=[]\n",
    "\n",
    "for word in result_1_raw:\n",
    "    result_word_tokenized_raw.append(word_tokenize(word))"
   ]
  },
  {
   "cell_type": "markdown",
   "metadata": {},
   "source": [
    "## Remove stop words from the word tokens"
   ]
  },
  {
   "cell_type": "code",
   "execution_count": 39,
   "metadata": {},
   "outputs": [
    {
     "name": "stderr",
     "output_type": "stream",
     "text": [
      "[nltk_data] Downloading package stopwords to\n",
      "[nltk_data]     C:\\Users\\ykd10\\AppData\\Roaming\\nltk_data...\n",
      "[nltk_data]   Package stopwords is already up-to-date!\n"
     ]
    }
   ],
   "source": [
    "# Removing stop words from tokenized raw data \n",
    "\n",
    "nltk.download('stopwords')\n",
    "stop_words=set(stopwords.words(\"english\"))\n",
    "\n",
    "result_remove_stop_words_raw=[]\n",
    "temp_stop_words_raw=[]\n",
    "\n",
    "for sublist in result_word_tokenized_raw:\n",
    "    for word in sublist:\n",
    "        if word not in stop_words:\n",
    "            temp_stop_words_raw.append(word)\n",
    "    result_remove_stop_words_raw.append(temp_stop_words_raw)\n",
    "    temp_stop_words_raw=[]"
   ]
  },
  {
   "cell_type": "markdown",
   "metadata": {},
   "source": [
    "## Perform stemming on word tokens to obtain root words"
   ]
  },
  {
   "cell_type": "code",
   "execution_count": 40,
   "metadata": {},
   "outputs": [],
   "source": [
    "# Stemming after removing stop words from raw data\n",
    "\n",
    "porterStemmer = PorterStemmer()\n",
    "\n",
    "result_stemmed_words_raw=[]\n",
    "temp_stemmed_words_raw=[]\n",
    "\n",
    "for sublist in result_remove_stop_words_raw:\n",
    "    for word in sublist:\n",
    "        temp_stemmed_words_raw.append(porterStemmer.stem(word))\n",
    "    result_stemmed_words_raw.append(temp_stemmed_words_raw)\n",
    "    temp_stemmed_words_raw=[]"
   ]
  },
  {
   "cell_type": "markdown",
   "metadata": {},
   "source": [
    "## Tagging Part of Speech on the stemmed word tokens "
   ]
  },
  {
   "cell_type": "code",
   "execution_count": 41,
   "metadata": {},
   "outputs": [
    {
     "name": "stderr",
     "output_type": "stream",
     "text": [
      "[nltk_data] Downloading package averaged_perceptron_tagger to\n",
      "[nltk_data]     C:\\Users\\ykd10\\AppData\\Roaming\\nltk_data...\n",
      "[nltk_data]   Package averaged_perceptron_tagger is already up-to-\n",
      "[nltk_data]       date!\n"
     ]
    },
    {
     "data": {
      "text/plain": [
       "[('healta', 'NN'),\n",
       " ('saturn', 'NN'),\n",
       " ('wwc', 'NN'),\n",
       " ('edu', 'NN'),\n",
       " ('tammi', 'NN'),\n",
       " ('r', 'NN'),\n",
       " ('heali', 'NN'),\n",
       " ('subject', 'JJ'),\n",
       " ('judg', 'NN'),\n",
       " ('bobbi', 'NN'),\n",
       " ('line', 'NN'),\n",
       " ('organ', 'IN'),\n",
       " ('walla', 'NN'),\n",
       " ('walla', 'NN'),\n",
       " ('colleg', 'NN'),\n",
       " ('line', 'NN'),\n",
       " ('articl', 'IN'),\n",
       " ('apr', 'JJ'),\n",
       " ('ultb', 'JJ'),\n",
       " ('isc', 'NN'),\n",
       " ('rit', 'NN'),\n",
       " ('edu', 'NN'),\n",
       " ('snm', 'NN'),\n",
       " ('ultb', 'JJ'),\n",
       " ('isc', 'NN'),\n",
       " ('rit', 'NN'),\n",
       " ('edu', 'NN'),\n",
       " ('n', 'NN'),\n",
       " ('mozumd', 'NN'),\n",
       " ('write', 'VBP'),\n",
       " ('snm', 'NN'),\n",
       " ('ultb', 'JJ'),\n",
       " ('isc', 'NN'),\n",
       " ('rit', 'NN'),\n",
       " ('edu', 'NN'),\n",
       " ('n', 'JJ'),\n",
       " ('mozumd', 'NN'),\n",
       " ('subject', 'JJ'),\n",
       " ('judg', 'NN'),\n",
       " ('bobbi', 'NN'),\n",
       " ('date', 'NN'),\n",
       " ('wed', 'VBD'),\n",
       " ('apr', 'JJ'),\n",
       " ('gmt', 'NN'),\n",
       " ('articl', 'NN'),\n",
       " ('healta', 'NN'),\n",
       " ('saturn', 'VBP'),\n",
       " ('wwc', 'JJ'),\n",
       " ('edu', 'NN'),\n",
       " ('healta', 'NN'),\n",
       " ('saturn', 'VBP'),\n",
       " ('wwc', 'JJ'),\n",
       " ('edu', 'NN'),\n",
       " ('tammi', 'NN'),\n",
       " ('r', 'NN'),\n",
       " ('heali', 'NN'),\n",
       " ('write', 'JJ'),\n",
       " ('bobbi', 'NN'),\n",
       " ('would', 'MD'),\n",
       " ('like', 'VB'),\n",
       " ('take', 'VB'),\n",
       " ('liberti', 'JJ'),\n",
       " ('quot', 'NN'),\n",
       " ('christian', 'JJ'),\n",
       " ('writer', 'NN'),\n",
       " ('name', 'NN'),\n",
       " ('ellen', 'FW'),\n",
       " ('g', 'FW'),\n",
       " ('white', 'JJ'),\n",
       " ('hope', 'NN'),\n",
       " ('said', 'VBD'),\n",
       " ('help', 'NN'),\n",
       " ('edit', 'NN'),\n",
       " ('remark', 'NN'),\n",
       " ('group', 'NN'),\n",
       " ('futur', 'VBZ'),\n",
       " ('set', 'VBN'),\n",
       " ('standard', 'JJ'),\n",
       " ('make', 'VBP'),\n",
       " ('opinion', 'NN'),\n",
       " ('view', 'NN'),\n",
       " ('duti', 'VBP'),\n",
       " ('interpret', 'JJ'),\n",
       " ('scriptur', 'NN'),\n",
       " ('criterion', 'NN'),\n",
       " ('other', 'JJ'),\n",
       " ('heart', 'NN'),\n",
       " ('condemn', 'VBZ'),\n",
       " ('come', 'VBN'),\n",
       " ('ideal', 'JJ'),\n",
       " ('thought', 'JJ'),\n",
       " ('fromth', 'NN'),\n",
       " ('mount', 'NN'),\n",
       " ('bless', 'NN'),\n",
       " ('p', 'IN'),\n",
       " ('hope', 'NN'),\n",
       " ('quot', 'NNS'),\n",
       " ('make', 'VBP'),\n",
       " ('atheist', 'JJ'),\n",
       " ('gag', 'NN'),\n",
       " ('think', 'VBP'),\n",
       " ('ellen', 'VBN'),\n",
       " ('white', 'JJ'),\n",
       " ('put', 'NN'),\n",
       " ('better', 'RBR'),\n",
       " ('could', 'MD'),\n",
       " ('tammi', 'VB'),\n",
       " ('point', 'NN'),\n",
       " ('peac', 'NN'),\n",
       " ('bobbi', 'NN'),\n",
       " ('mozumd', 'NN'),\n",
       " ('point', 'NN'),\n",
       " ('set', 'VBN'),\n",
       " ('view', 'NN'),\n",
       " ('way', 'NN'),\n",
       " ('believ', 'NNS'),\n",
       " ('say', 'VBP'),\n",
       " ('eveil', 'JJ'),\n",
       " ('world', 'NN'),\n",
       " ('caus', 'NN'),\n",
       " ('atheism', 'NN'),\n",
       " ('ridicul', 'NN'),\n",
       " ('counterproduct', 'NN'),\n",
       " ('dialogu', 'NN'),\n",
       " ('newsgroup', 'NN'),\n",
       " ('see', 'VBP'),\n",
       " ('post', 'NN'),\n",
       " ('spirit', 'NN'),\n",
       " ('condemn', 'NN'),\n",
       " ('atheist', 'NN'),\n",
       " ('newsgroup', 'NN'),\n",
       " ('bacaus', 'NN'),\n",
       " ('believ', 'NN'),\n",
       " ('eactli', 'NN'),\n",
       " ('tri', 'NN'),\n",
       " ('convert', 'JJ'),\n",
       " ('atheist', 'NN'),\n",
       " ('fail', 'VBP'),\n",
       " ('miser', 'NN'),\n",
       " ('want', 'VBP'),\n",
       " ('posit', 'NN'),\n",
       " ('constantli', 'NN'),\n",
       " ('defend', 'VBP'),\n",
       " ('agaist', 'NN'),\n",
       " ('insult', 'NN'),\n",
       " ('attack', 'NN'),\n",
       " ('like', 'IN'),\n",
       " ('seem', 'VBP'),\n",
       " ('like', 'IN'),\n",
       " ('sorri', 'NN'),\n",
       " ('blind', 'NN'),\n",
       " ('get', 'VBP'),\n",
       " ('messga', 'JJ'),\n",
       " ('quot', 'NN'),\n",
       " ('everyon', 'NN'),\n",
       " ('els', 'NNS'),\n",
       " ('seem', 'VBP'),\n",
       " ('tammi', 'NN')]"
      ]
     },
     "execution_count": 41,
     "metadata": {},
     "output_type": "execute_result"
    }
   ],
   "source": [
    "# Part of speech tagging on raw data\n",
    "\n",
    "nltk.download('averaged_perceptron_tagger')\n",
    "\n",
    "result_word_pos_raw=[]\n",
    "for word in result_stemmed_words_raw:\n",
    "        result_word_pos_raw.append(nltk.pos_tag(word))\n",
    "result_word_pos_raw[0]"
   ]
  },
  {
   "cell_type": "markdown",
   "metadata": {},
   "source": [
    "## Extracting nouns only from the above POS result"
   ]
  },
  {
   "cell_type": "code",
   "execution_count": null,
   "metadata": {
    "scrolled": true
   },
   "outputs": [],
   "source": [
    "# Extracting nouns only.\n",
    "\n",
    "result_noun_raw= []\n",
    "temp_noun_raw=[]\n",
    "for sublist in result_word_pos_raw:\n",
    "    for word in sublist:\n",
    "        if word[1].startswith(\"NN\"):\n",
    "            temp_noun_raw.append(word[0])\n",
    "    result_noun_raw.append(temp_noun_raw)\n",
    "    temp_noun_raw=[]\n",
    "result_noun_raw[0]  "
   ]
  },
  {
   "cell_type": "markdown",
   "metadata": {},
   "source": [
    "## Initialize Tf-idf vector object for feature extraction and convert it into vectors using \"nouns\" only for modelling"
   ]
  },
  {
   "cell_type": "code",
   "execution_count": null,
   "metadata": {},
   "outputs": [],
   "source": [
    "# Flattened the list of list for feature extraction\n",
    "\n",
    "vector_list_noun=[' '.join(sublist) for sublist in result_noun_raw]\n",
    "\n",
    "# Feature Extraction\n",
    "\n",
    "newsgroups_vectorizer_noun=TfidfVectorizer()\n",
    "newsgroups_vectors_noun=newsgroups_vectorizer_noun.fit_transform(vector_list_noun)"
   ]
  },
  {
   "cell_type": "markdown",
   "metadata": {},
   "source": [
    "## Split the data into train(70%) and test(30%) dataset\n",
    "\n",
    "### Here, the training data is the vectors obtained from feature extraction of nouns only and the test data is \"newsgroups.target\"."
   ]
  },
  {
   "cell_type": "code",
   "execution_count": null,
   "metadata": {},
   "outputs": [],
   "source": [
    "X=newsgroups_vectors_noun\n",
    "y=newsgroups.target\n",
    "X_train_noun, X_test_noun, y_train_noun, y_test_noun=train_test_split(X, y, test_size=0.3,random_state=30)"
   ]
  },
  {
   "cell_type": "markdown",
   "metadata": {},
   "source": [
    "## Multinomial NB\n",
    "\n",
    "## Train the model using Multinomial NB algorithm on\"nouns only data\" which is used for classifying discrete features\n",
    "\n",
    "### Results\n",
    "\n",
    "We are getting an accuracy of 94.30% using Multinomial NB"
   ]
  },
  {
   "cell_type": "code",
   "execution_count": null,
   "metadata": {},
   "outputs": [],
   "source": [
    "# Multinomial NB on Nouns\n",
    "\n",
    "multinomialNB_noun=MultinomialNB(alpha=.01)\n",
    "multinomialNB_noun.fit(X_train_noun,y_train_noun)\n",
    "predict_multinomialNB_noun=multinomialNB_noun.predict(X_test_noun)\n",
    "print(\"Accuracy using MultinomialNB - Nouns: \"+\"{:.2%}\".format(metrics.accuracy_score(y_test_noun,predict_multinomialNB_noun)))"
   ]
  },
  {
   "cell_type": "markdown",
   "metadata": {},
   "source": [
    "## Confusion Matrix for the above result obtained using Multinomial NB for \"nouns only data\" showing confusion between classes."
   ]
  },
  {
   "cell_type": "code",
   "execution_count": null,
   "metadata": {},
   "outputs": [],
   "source": [
    "# Confusion Matrix for Multinomial NB\n",
    "\n",
    "cnfmatrix_multinomialNB_Noun=confusion_matrix(y_test_noun,predict_multinomialNB_noun)\n",
    "print(cnfmatrix_multinomialNB_Noun)"
   ]
  },
  {
   "cell_type": "markdown",
   "metadata": {},
   "source": [
    "## Plotting Confusion Matrix (Multinomial NB)"
   ]
  },
  {
   "cell_type": "code",
   "execution_count": null,
   "metadata": {},
   "outputs": [],
   "source": [
    "# Plot confusion matrix for Multinomial NB - Nouns\n",
    "\n",
    "df_cnfmatrix_multinomialNB_noun=pd.DataFrame(cnfmatrix_multinomialNB_Noun, index=['atheism','religion','graphics','space'], \n",
    "                                        columns=['atheism','religion','graphics','space'])\n",
    "plt.figure(figsize=(10,7))\n",
    "sbn.set(font_scale=1.5)\n",
    "sbn.heatmap(df_cnfmatrix_multinomialNB_noun, cmap=\"OrRd\", annot=True,xticklabels=True, yticklabels=True)"
   ]
  },
  {
   "cell_type": "markdown",
   "metadata": {},
   "source": [
    "## SVM\n",
    "\n",
    "## Train the model using Support Vector Machine (SVM) Classifier (Nouns only data)\n",
    "\n",
    "### Results \n",
    "\n",
    "We are getting an accuracy of 96.17% using SVM with Linear Kernel"
   ]
  },
  {
   "cell_type": "code",
   "execution_count": null,
   "metadata": {},
   "outputs": [],
   "source": [
    "# SVM with Linear Kernel\n",
    "\n",
    "svcClassifier_noun=SVC(kernel='linear', C=1, gamma=2, random_state=45)\n",
    "svcClassifier_noun.fit(X_train_noun,y_train_noun)\n",
    "predict_svcClassifier_noun=svcClassifier_noun.predict(X_test_noun)\n",
    "print(\"Accuracy using SVM Classifier - Polynomial Kernel - Nouns :\"+\"{:.2%}\".format(metrics.accuracy_score(y_test_noun,predict_svcClassifier_noun)))"
   ]
  },
  {
   "cell_type": "markdown",
   "metadata": {},
   "source": [
    "## Confusion matrix for the above result obtained using SVM (Linear Kernel) showing confusion between classes."
   ]
  },
  {
   "cell_type": "code",
   "execution_count": null,
   "metadata": {},
   "outputs": [],
   "source": [
    "# Confusion Matrix for SVM - Linear - Nouns\n",
    "\n",
    "cnfmatrix_svcClassifier_Noun=confusion_matrix(y_test_noun,predict_svcClassifier_noun)\n",
    "print(cnfmatrix_svcClassifier_Noun)"
   ]
  },
  {
   "cell_type": "markdown",
   "metadata": {},
   "source": [
    "## Confusion Matrix for SVM - Linear (Nouns only data)"
   ]
  },
  {
   "cell_type": "code",
   "execution_count": null,
   "metadata": {},
   "outputs": [],
   "source": [
    "# Plot confusion matrix for SVM - Linear- Nouns\n",
    "\n",
    "df_cnfmatrix_svcClassifier_noun=pd.DataFrame(cnfmatrix_svcClassifier_Noun, index=['atheism','religion','graphics','space'], \n",
    "                                        columns=['atheism','religion','graphics','space'])\n",
    "plt.figure(figsize=(10,5))\n",
    "sbn.set(font_scale=1.5)\n",
    "sbn.heatmap(df_cnfmatrix_svcClassifier_noun, cmap=\"OrRd\", annot=True)"
   ]
  },
  {
   "cell_type": "markdown",
   "metadata": {},
   "source": [
    "## Changing kernel "
   ]
  },
  {
   "cell_type": "markdown",
   "metadata": {},
   "source": [
    "## SVM - Polynomial Kernel"
   ]
  },
  {
   "cell_type": "code",
   "execution_count": null,
   "metadata": {},
   "outputs": [],
   "source": [
    "# Polynoimial Kernel\n",
    "\n",
    "svcClassifier_polynomial_noun=SVC(kernel='poly',degree=3, C=0.1, gamma=2, random_state=45)\n",
    "svcClassifier_polynomial_noun.fit(X_train_noun,y_train_noun)\n",
    "predict_svcClassifier_polynomial_noun=svcClassifier_polynomial_noun.predict(X_test_noun)\n",
    "print(\"Accuracy using SVM Classifier - Polynomial Kernel - Nouns :\"+\"{:.2%}\".format(metrics.accuracy_score(y_test_noun,predict_svcClassifier_polynomial_noun)))"
   ]
  },
  {
   "cell_type": "code",
   "execution_count": null,
   "metadata": {},
   "outputs": [],
   "source": [
    "# Confusion Matrix for SVM - Polynomial - Nouns\n",
    "\n",
    "cnfmatrix_svcClassifier_polynomial_noun=confusion_matrix(y_test,predict_svcClassifier_polynomial_noun)\n",
    "print(cnfmatrix_svcClassifier_polynomial_noun)"
   ]
  },
  {
   "cell_type": "markdown",
   "metadata": {},
   "source": [
    "## SVM - RBF Kernel"
   ]
  },
  {
   "cell_type": "code",
   "execution_count": null,
   "metadata": {},
   "outputs": [],
   "source": [
    "# RBF Kernel\n",
    "\n",
    "svcClassifier_rbf_noun=SVC(kernel='rbf', C=1, gamma=2, random_state=45)\n",
    "svcClassifier_rbf_noun.fit(X_train_noun,y_train_noun)\n",
    "predict_svcClassifier_rbf_noun=svcClassifier_rbf_noun.predict(X_test_noun)\n",
    "print(\"Accuracy using SVM Classifier - RBF Kernel - Nouns :\"+\"{:.2%}\".format(metrics.accuracy_score(y_test_noun,predict_svcClassifier_rbf_noun)))"
   ]
  },
  {
   "cell_type": "code",
   "execution_count": null,
   "metadata": {},
   "outputs": [],
   "source": [
    "# Confusion Matrix for SVM - RBF - Nouns\n",
    "\n",
    "cnfmatrix_svcClassifier_rbf_noun=confusion_matrix(y_test,predict_svcClassifier_rbf_noun)\n",
    "print(cnfmatrix_svcClassifier_rbf_noun)"
   ]
  },
  {
   "cell_type": "markdown",
   "metadata": {},
   "source": [
    "## Result:\n",
    "\n",
    "Comparing both the results (entire dataset and dataset with \"nouns\" only), there is no big difference in the accuracy. For \"nouns\" only data the accuracy is slightly decreasing for \"Multinomial NB\", \"SVM - Polynomial\" and \"SVM - RBF\", but for \"SVM - Linear\" its slightly increasing as compared to the accuracy of the entire dataset from 95.77% to 96.17%\n",
    "\n",
    "The size of the vocabulary is less for \"nouns\" only data as compared to the entire dataset."
   ]
  }
 ],
 "metadata": {
  "kernelspec": {
   "display_name": "Python 3",
   "language": "python",
   "name": "python3"
  },
  "language_info": {
   "codemirror_mode": {
    "name": "ipython",
    "version": 3
   },
   "file_extension": ".py",
   "mimetype": "text/x-python",
   "name": "python",
   "nbconvert_exporter": "python",
   "pygments_lexer": "ipython3",
   "version": "3.6.8"
  }
 },
 "nbformat": 4,
 "nbformat_minor": 2
}
